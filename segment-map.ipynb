{
 "cells": [
  {
   "cell_type": "code",
   "execution_count": 3,
   "id": "59956b50-8cef-4e23-b4ac-ad5a30b8ce37",
   "metadata": {
    "tags": []
   },
   "outputs": [],
   "source": [
    "# !pip3 install -r requirement.txt\n"
   ]
  },
  {
   "cell_type": "code",
   "execution_count": 4,
   "id": "5759d506-7740-492f-b0f1-301fee4c64f3",
   "metadata": {
    "tags": []
   },
   "outputs": [],
   "source": [
    "\n",
    "from PIL import Image\n",
    "import os\n",
    "from pathlib import PureWindowsPath, PurePosixPath,Path\n",
    "import pandas as pd"
   ]
  },
  {
   "cell_type": "code",
   "execution_count": 1,
   "id": "58aa4c9e-f917-4f53-bb28-382912ab6f8b",
   "metadata": {
    "tags": []
   },
   "outputs": [
    {
     "name": "stdout",
     "output_type": "stream",
     "text": [
      "/home/ec2-user/SageMaker/segment-map\n"
     ]
    }
   ],
   "source": [
    "!pwd"
   ]
  },
  {
   "cell_type": "code",
   "execution_count": 6,
   "id": "36d6509c-a7d6-44a7-8457-17f7ba15d4cd",
   "metadata": {
    "tags": []
   },
   "outputs": [],
   "source": [
    "DATA_DIR = '/home/ec2-user/SageMaker/datasets/CIHP/img'\n",
    "\n",
    "new = Image.new(mode=\"RGB\", size=(256,256))\n",
    "# new.save(DATA_DIR + '/gg.jpg')\n",
    "\n",
    "def save_img(root1, label, new, file):\n",
    "    label_src_root = root1.replace('img', label)\n",
    "    if not os.path.exists(label_src_root):\n",
    "        os.makedirs(label_src_root)\n",
    "    label_src = os.path.join(label_src_root,file)\n",
    "    new.save(label_src)\n",
    "\n",
    "def create_empty_images():\n",
    "    for (root,dirs,files) in os.walk(DATA_DIR, topdown=True):\n",
    "        for file in files:\n",
    "            # root1=str(PurePosixPath(PureWindowsPath(root)))\n",
    "            # root1 =root1.replace('D:\\/', 'D:/')\n",
    "            # print(root)\n",
    "            file = file.replace('jpg', 'png')\n",
    "            save_img(root, 'labels',new, file)\n",
    "            save_img(root, 'edges',new, file)\n",
    "            save_img(root, 'labels_rev',new, file)\n",
    "\n",
    "def path_replace(root1, label, file):\n",
    "    label_src_root = root1.replace('img', label)\n",
    "    return os.path.join(label_src_root,file)\n",
    "\n",
    "def get_rel_path(root_path, idx_name, file): \n",
    "    src = path_replace(root_path, idx_name, file)  \n",
    "    path = Path(src)\n",
    "    index = path.parts.index(idx_name)\n",
    "    return  \"/\".join(path.parts[index:])\n",
    "\n",
    "\n",
    "def get_data():\n",
    "    img_path_list,label_path_list, edge_path_list,f_name_list = [] ,[],[],[]\n",
    "    out_path_list = []\n",
    "    out_root = '/home/ec2-user/SageMaker/output/cihp_parsing_maps/'\n",
    "\n",
    "    for (root,dirs,files) in os.walk(DATA_DIR, topdown=True):\n",
    "        for file in files[:10]:\n",
    "            # root1=str(PurePosixPath(PureWindowsPath(root)))\n",
    "            # root1 =root1.replace('D:\\/', 'D:/')\n",
    "\n",
    "            img_root= get_rel_path(root, 'img', '')\n",
    "            out_path = os.path.join(out_root,img_root)\n",
    "            out_path_list.append(out_path)\n",
    "\n",
    "            img_path= get_rel_path(root, 'img', file)\n",
    "            img_path_list.append(img_path)\n",
    "\n",
    "            file = file.replace('jpg', 'png')\n",
    "            label_path= get_rel_path(root, 'labels', file)\n",
    "            label_path_list.append(label_path)\n",
    "            edge_path= get_rel_path(root, 'edges', file)\n",
    "            edge_path_list.append(edge_path)\n",
    "            f_name = file.split(\".\")[0]\n",
    "            f_name_list.append(f_name)\n",
    "    return img_path_list,label_path_list, edge_path_list, f_name_list,out_path_list"
   ]
  },
  {
   "cell_type": "code",
   "execution_count": 7,
   "id": "87191e1e-7b62-4d6b-ab23-6494790a5640",
   "metadata": {
    "tags": []
   },
   "outputs": [],
   "source": [
    "# create_empty_images()"
   ]
  },
  {
   "cell_type": "code",
   "execution_count": 8,
   "id": "b7d60dfd-a4db-4098-8a2d-4c1ef52cd326",
   "metadata": {
    "tags": []
   },
   "outputs": [],
   "source": [
    "img_path_list,label_path_list, edge_path_list,f_name_list,out_path_list = get_data()\n",
    "df = pd.DataFrame({\"img\":img_path_list, \"label\": label_path_list, \"edges\": edge_path_list, \"f_name\": f_name_list, \"out_root\": out_path_list, })\n",
    "val_path = '/home/ec2-user/SageMaker/datasets/CIHP/list/val.csv'\n",
    "df.to_csv(val_path)"
   ]
  },
  {
   "cell_type": "code",
   "execution_count": null,
   "id": "12f18a96-c31f-4e5a-998d-da11055260b4",
   "metadata": {},
   "outputs": [],
   "source": []
  }
 ],
 "metadata": {
  "kernelspec": {
   "display_name": "conda_amazonei_pytorch_latest_p37",
   "language": "python",
   "name": "conda_amazonei_pytorch_latest_p37"
  },
  "language_info": {
   "codemirror_mode": {
    "name": "ipython",
    "version": 3
   },
   "file_extension": ".py",
   "mimetype": "text/x-python",
   "name": "python",
   "nbconvert_exporter": "python",
   "pygments_lexer": "ipython3",
   "version": "3.7.10"
  }
 },
 "nbformat": 4,
 "nbformat_minor": 5
}
