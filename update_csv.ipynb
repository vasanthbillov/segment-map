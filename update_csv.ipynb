{
 "cells": [
  {
   "cell_type": "code",
   "execution_count": 1,
   "id": "1b7c5b3f-2529-40d6-86b2-c23a4f4d74b2",
   "metadata": {
    "tags": []
   },
   "outputs": [],
   "source": [
    "import os\n",
    "from pathlib import PureWindowsPath, PurePosixPath,Path\n",
    "import pandas as pd"
   ]
  },
  {
   "cell_type": "code",
   "execution_count": 2,
   "id": "68d1663d-e91a-42fa-b907-89731c6c6770",
   "metadata": {
    "tags": []
   },
   "outputs": [],
   "source": [
    " out_root = '/home/ec2-user/SageMaker/output/cihp_parsing_maps/'\n",
    "\n",
    "def path_replace(root1, label, file):\n",
    "    label_src_root = root1.replace('img', label)\n",
    "    return os.path.join(label_src_root,file)\n",
    "\n",
    "def get_rel_path(root_path, idx_name, file): \n",
    "    src = path_replace(root_path, idx_name, file)  \n",
    "    path = Path(src)\n",
    "    index = path.parts.index(idx_name)\n",
    "    return  \"/\".join(path.parts[index:])\n",
    "\n",
    "img_list = []\n",
    "for (root,dirs,files) in os.walk(out_root, topdown=True):\n",
    "        for file in files[:10]:\n",
    "            # root1=str(PurePosixPath(PureWindowsPath(root)))\n",
    "            # root1 =root1.replace('D:\\/', 'D:/')\n",
    "            file = file.replace('png', 'jpg')\n",
    "            img_root= get_rel_path(root, 'img', '')\n",
    "            out_path = os.path.join(img_root, file)\n",
    "            # out_path_list.append(out_path)\n",
    "            img_list.append(out_path)\n",
    "            # print(out_path)"
   ]
  },
  {
   "cell_type": "code",
   "execution_count": 3,
   "id": "6909f9f7-5c68-481e-808d-140aa4b2f9d4",
   "metadata": {
    "tags": []
   },
   "outputs": [
    {
     "name": "stdout",
     "output_type": "stream",
     "text": [
      "(17806, 6)\n",
      "(17197, 5)\n"
     ]
    }
   ],
   "source": [
    "val_path = '/home/ec2-user/SageMaker/datasets/CIHP/list/val.csv'\n",
    "df =pd.read_csv(val_path)\n",
    "print(df.shape)\n",
    "\n",
    "df['status'] = df['img'].apply(lambda x: x in img_list)\n",
    "df1 = df[df['status']==False][['img','label','edges','f_name','out_root']]\n",
    "print(df1.shape)\n"
   ]
  },
  {
   "cell_type": "code",
   "execution_count": 4,
   "id": "bff62f33-bd74-4629-aa15-6f712090278a",
   "metadata": {
    "tags": []
   },
   "outputs": [],
   "source": [
    "df1.to_csv(val_path)"
   ]
  },
  {
   "cell_type": "code",
   "execution_count": null,
   "id": "be452a82-a6a5-4da7-94a7-434445297ffa",
   "metadata": {
    "tags": []
   },
   "outputs": [],
   "source": []
  },
  {
   "cell_type": "code",
   "execution_count": null,
   "id": "ef9b188c-9e85-487d-b175-868c71393aea",
   "metadata": {},
   "outputs": [],
   "source": []
  }
 ],
 "metadata": {
  "kernelspec": {
   "display_name": "conda_amazonei_pytorch_latest_p37",
   "language": "python",
   "name": "conda_amazonei_pytorch_latest_p37"
  },
  "language_info": {
   "codemirror_mode": {
    "name": "ipython",
    "version": 3
   },
   "file_extension": ".py",
   "mimetype": "text/x-python",
   "name": "python",
   "nbconvert_exporter": "python",
   "pygments_lexer": "ipython3",
   "version": "3.7.10"
  }
 },
 "nbformat": 4,
 "nbformat_minor": 5
}
